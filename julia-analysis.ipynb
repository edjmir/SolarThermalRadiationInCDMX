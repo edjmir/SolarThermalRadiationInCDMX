{
 "cells": [
  {
   "cell_type": "markdown",
   "source": [
    "# Solar thermal analysis - CDMX"
   ],
   "metadata": {
    "collapsed": false
   }
  },
  {
   "cell_type": "markdown",
   "source": [
    "## Packages"
   ],
   "metadata": {
    "collapsed": false
   }
  },
  {
   "cell_type": "code",
   "execution_count": 1,
   "id": "c6c9f229",
   "metadata": {},
   "outputs": [
    {
     "name": "stderr",
     "output_type": "stream",
     "text": [
      "\u001B[32m\u001B[1m    Updating\u001B[22m\u001B[39m registry at `~/.julia/registries/General.toml`\n",
      "\u001B[32m\u001B[1m   Resolving\u001B[22m\u001B[39m package versions...\n",
      "\u001B[32m\u001B[1m  No Changes\u001B[22m\u001B[39m to `~/.julia/environments/v1.8/Project.toml`\n",
      "\u001B[32m\u001B[1m  No Changes\u001B[22m\u001B[39m to `~/.julia/environments/v1.8/Manifest.toml`\n",
      "\u001B[32m\u001B[1m   Resolving\u001B[22m\u001B[39m package versions...\n",
      "\u001B[32m\u001B[1m  No Changes\u001B[22m\u001B[39m to `~/.julia/environments/v1.8/Project.toml`\n",
      "\u001B[32m\u001B[1m  No Changes\u001B[22m\u001B[39m to `~/.julia/environments/v1.8/Manifest.toml`\n",
      "\u001B[32m\u001B[1m   Resolving\u001B[22m\u001B[39m package versions...\n",
      "\u001B[32m\u001B[1m  No Changes\u001B[22m\u001B[39m to `~/.julia/environments/v1.8/Project.toml`\n",
      "\u001B[32m\u001B[1m  No Changes\u001B[22m\u001B[39m to `~/.julia/environments/v1.8/Manifest.toml`\n"
     ]
    }
   ],
   "source": [
    "using Pkg\n",
    "Pkg.add(\"DataFrames\")\n",
    "Pkg.add(\"CSV\")\n",
    "Pkg.add(\"Plots\")\n",
    "\n",
    "using HTTP"
   ]
  },
  {
   "cell_type": "markdown",
   "source": [
    "## Dictionaries used for the analysis"
   ],
   "metadata": {
    "collapsed": false
   }
  },
  {
   "cell_type": "code",
   "execution_count": 2,
   "outputs": [],
   "source": [
    "parameters = Dict(\n",
    "\t\"hourly\" => [\n",
    "\t\t\"PS\",\n",
    "\t\t\"WS2M\",\n",
    "\t\t\"QV2M\",\n",
    "\t\t\"CLRSKY_SFC_SW_DWN\",\n",
    "\t\t\"ALLSKY_SFC_SW_DWN\",\n",
    "\t\t\"CLOUD_AMT\",\n",
    "\t\t\"ALLSKY_SFC_UVA\",\n",
    "\t\t\"ALLSKY_SFC_UVB\"\n",
    "\t]\n",
    ");\n",
    "\n",
    "descriptions = Dict(\n",
    "\t\"PS\" => [\n",
    "\t\t\"Surface Pressure\",\n",
    "\t\t\"The average of surface pressure at the surface of the earth.\"\n",
    "\t],\n",
    "\t\"WS2M\" => [\n",
    "\t\t\"Wind Speed at 2 Meters\",\n",
    "\t\t\"The average of wind speed at 2 meters above the surface of the earth.\"\n",
    "\t],\n",
    "\t\"QV2M\" => [\n",
    "\t\t\"Specific Humidity at 2 Meters\",\n",
    "\t\t\"The ratio of the mass of water vapor to the total mass of air at 2 meters (kg water/kg total air).\"\n",
    "\t],\n",
    "\t\"CLRSKY_SFC_SW_DWN\" => [\n",
    "\t\t\"Clear Sky Surface Shortwave Downward Irradiance\",\n",
    "\t\t\"\"\"The total solar irradiance incident (direct plus diffuse) on a horizontal plane at the surface of the earth under clear sky conditions. An alternative term for the total solar irradiance is the \"Global Horizontal Irradiance\" or GHI.\"\"\"\n",
    "\t],\n",
    "\t\"ALLSKY_SFC_SW_DWN\" => [\n",
    "\t\t\"All Sky Surface Shortwave Downward Irradiance\",\n",
    "\t\t\"\"\"The total solar irradiance incident (direct plus diffuse) on a horizontal plane at the surface of the earth under all sky conditions. An alternative term for the total solar irradiance is the \"Global Horizontal Irradiance\" or GHI.\"\"\"\n",
    "\t],\n",
    "\t\"CLOUD_AMT\" => [\n",
    "\t\t\"Cloud Amount\",\n",
    "\t\t\"The average percent of cloud amount during the temporal period.\"\n",
    "\t],\n",
    "\t\"ALLSKY_SFC_UVA\" => [\n",
    "\t\t\"All Sky Surface UVA Irradiance\",\n",
    "\t\t\"The ultraviolet A (UVA 315nm-400nm) irradiance under all sky conditions.\"\n",
    "\t],\n",
    "\t\"ALLSKY_SFC_UVB\" => [\n",
    "\t\t\"All Sky Surface UVB Irradiance\",\n",
    "\t\t\"The ultraviolet B (UVB 280nm-315nm) irradiance under all sky conditions.\"\n",
    "\t]\n",
    ");"
   ],
   "metadata": {
    "collapsed": false
   }
  },
  {
   "cell_type": "code",
   "execution_count": 3,
   "outputs": [],
   "source": [
    "const LATITUDE::Float64 = 19.5138;\n",
    "const LONGITUDE::Float64 = -99.1285;\n",
    "const START_DATE::Int64 = 20220101;\n",
    "const END_DATE::Int64 = 20221231;\n"
   ],
   "metadata": {
    "collapsed": false
   }
  },
  {
   "cell_type": "code",
   "execution_count": 7,
   "outputs": [
    {
     "data": {
      "text/plain": "\"https://power.larc.nasa.gov/api/temporal/hourly/point?parameters=PS,WS2M,QV2M,CLRSKY_SFC_SW_DWN,ALLSKY_SFC_SW_DWN,CLOUD_AMT,ALLSKY_SFC_UVA,ALLSKY_SFC_UVB&community=RE&longitude=-99.1285&latitude=19.5138&start=20220101&end=20221231&format=CSV\""
     },
     "metadata": {},
     "output_type": "display_data"
    }
   ],
   "source": [
    "requests = []\n",
    "for key in keys(parameters)\n",
    "\tURL::String = string(\n",
    "\t\t\"https://power.larc.nasa.gov/api/temporal/$key/point\",\n",
    "\t\t\"?parameters=\",\n",
    "\t\tjoin(parameters[key], \",\"),\n",
    "\t\t\"&community=RE\",\n",
    "\t\t\"&longitude=$LONGITUDE\",\n",
    "\t\t\"&latitude=$LATITUDE\",\n",
    "\t\t\"&start=$START_DATE\",\n",
    "\t\t\"&end=$END_DATE\",\n",
    "\t\t\"&format=CSV\"\n",
    "\t);\n",
    "\t# res = HTTP.request(\"GET\", URL)\n",
    "\t# push!(requests, res)\n",
    "\tdisplay(URL)\n",
    "end"
   ],
   "metadata": {
    "collapsed": false
   }
  },
  {
   "cell_type": "code",
   "execution_count": null,
   "outputs": [],
   "source": [],
   "metadata": {
    "collapsed": false
   }
  }
 ],
 "metadata": {
  "kernelspec": {
   "display_name": "Julia 1.8.0",
   "language": "julia",
   "name": "julia-1.8"
  },
  "language_info": {
   "file_extension": ".jl",
   "mimetype": "application/julia",
   "name": "julia",
   "version": "1.8.0"
  }
 },
 "nbformat": 4,
 "nbformat_minor": 5
}
