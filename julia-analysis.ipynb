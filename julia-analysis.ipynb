{
 "cells": [
  {
   "cell_type": "markdown",
   "id": "4da5fe52",
   "metadata": {},
   "source": [
    "# Solar thermal analysis - CDMX"
   ]
  },
  {
   "cell_type": "markdown",
   "id": "6d4cf526",
   "metadata": {},
   "source": [
    "## Packages"
   ]
  },
  {
   "cell_type": "code",
   "execution_count": 37,
   "id": "c6c9f229",
   "metadata": {},
   "outputs": [
    {
     "name": "stderr",
     "output_type": "stream",
     "text": [
      "\u001B[32m\u001B[1m   Resolving\u001B[22m\u001B[39m package versions...\n",
      "\u001B[32m\u001B[1m  No Changes\u001B[22m\u001B[39m to `~/.julia/environments/v1.8/Project.toml`\n",
      "\u001B[32m\u001B[1m  No Changes\u001B[22m\u001B[39m to `~/.julia/environments/v1.8/Manifest.toml`\n",
      "\u001B[32m\u001B[1m   Resolving\u001B[22m\u001B[39m package versions...\n",
      "\u001B[32m\u001B[1m  No Changes\u001B[22m\u001B[39m to `~/.julia/environments/v1.8/Project.toml`\n",
      "\u001B[32m\u001B[1m  No Changes\u001B[22m\u001B[39m to `~/.julia/environments/v1.8/Manifest.toml`\n",
      "\u001B[36m\u001B[1m[ \u001B[22m\u001B[39m\u001B[36m\u001B[1mInfo: \u001B[22m\u001B[39mPrecompiling Plots [91a5bcdd-55d7-5caf-9e0b-520d859cae80]\n"
     ]
    }
   ],
   "source": [
    "using Pkg\n",
    "Pkg.add(\"Plots\")\n",
    "Pkg.add(\"CategoricalArrays\")\n",
    "\n",
    "using HTTP\n",
    "using DataFrames\n",
    "using CSV\n",
    "using CategoricalArrays\n",
    "using Missings\n",
    "using Statistics\n",
    "using Plots"
   ]
  },
  {
   "cell_type": "markdown",
   "id": "e7cbd56e",
   "metadata": {},
   "source": [
    "## Dictionaries used for the analysis"
   ]
  },
  {
   "cell_type": "code",
   "execution_count": 216,
   "id": "46118381",
   "metadata": {},
   "outputs": [],
   "source": [
    "parameters = Dict(\n",
    "\t\"hourly\" => [\n",
    "\t\t\"PS\",\n",
    "\t\t\"WS2M\",\n",
    "\t\t\"QV2M\",\n",
    "\t\t\"CLRSKY_SFC_SW_DWN\",\n",
    "\t\t\"ALLSKY_SFC_SW_DWN\",\n",
    "\t\t\"CLOUD_AMT\",\n",
    "\t\t\"ALLSKY_SFC_UVA\",\n",
    "\t\t\"ALLSKY_SFC_UVB\"\n",
    "\t]\n",
    ");\n",
    "\n",
    "descriptions = Dict(\n",
    "\t\"PS\" => [\n",
    "\t\t\"Surface Pressure\",\n",
    "\t\t\"The average of surface pressure at the surface of the earth.\",\n",
    "\t\t\"kPa\"\n",
    "\t],\n",
    "\t\"WS2M\" => [\n",
    "\t\t\"Wind Speed at 2 Meters\",\n",
    "\t\t\"The average of wind speed at 2 meters above the surface of the earth.\",\n",
    "\t\t\"m/s\"\n",
    "\t],\n",
    "\t\"QV2M\" => [\n",
    "\t\t\"Specific Humidity at 2 Meters\",\n",
    "\t\t\"The ratio of the mass of water vapor to the total mass of air at 2 meters (kg water/kg total air).\",\n",
    "\t\t\"g/kg\"\n",
    "\t],\n",
    "\t\"CLRSKY_SFC_SW_DWN\" => [\n",
    "\t\t\"Clear Sky Surface Shortwave Downward Irradiance\",\n",
    "\t\t\"\"\"The total solar irradiance incident (direct plus diffuse) on a horizontal plane at the surface of the earth under clear sky conditions. An alternative term for the total solar irradiance is the \"Global Horizontal Irradiance\" or GHI.\"\"\",\n",
    "\t\t\"Whr/m^2\"\n",
    "\t],\n",
    "\t\"ALLSKY_SFC_SW_DWN\" => [\n",
    "\t\t\"All Sky Surface Shortwave Downward Irradiance\",\n",
    "\t\t\"\"\"The total solar irradiance incident (direct plus diffuse) on a horizontal plane at the surface of the earth under all sky conditions. An alternative term for the total solar irradiance is the \"Global Horizontal Irradiance\" or GHI.\"\"\",\n",
    "\t\t\"Whr/m^2\"\n",
    "\t],\n",
    "\t\"CLOUD_AMT\" => [\n",
    "\t\t\"Cloud Amount\",\n",
    "\t\t\"The average percent of cloud amount during the temporal period.\",\n",
    "\t\t\"%\"\n",
    "\t],\n",
    "\t\"ALLSKY_SFC_UVA\" => [\n",
    "\t\t\"All Sky Surface UVA Irradiance\",\n",
    "\t\t\"The ultraviolet A (UVA 315nm-400nm) irradiance under all sky conditions.\",\n",
    "\t\t\"W/m^2\"\n",
    "\t],\n",
    "\t\"ALLSKY_SFC_UVB\" => [\n",
    "\t\t\"All Sky Surface UVB Irradiance\",\n",
    "\t\t\"The ultraviolet B (UVB 280nm-315nm) irradiance under all sky conditions.\",\n",
    "\t\t\"W/m^2\"\n",
    "\t]\n",
    ");\n",
    "\n",
    "months = Dict(\n",
    "\t1 => \"Enero\",\n",
    "\t2 => \"Febrero\",\n",
    "\t3 => \"Marzo\",\n",
    "\t4 => \"Abril\",\n",
    "\t5 => \"Mayo\",\n",
    "\t6 => \"Junio\",\n",
    "\t7 => \"Julio\",\n",
    "\t8 => \"Agosto\",\n",
    "\t9 => \"Septiembre\",\n",
    "\t10 => \"Octubre\",\n",
    "\t11 => \"Noviembre\",\n",
    "\t12 => \"Diciembre\"\n",
    ");"
   ]
  },
  {
   "cell_type": "markdown",
   "id": "6ee76e2e",
   "metadata": {},
   "source": [
    "## Constants for URL construction"
   ]
  },
  {
   "cell_type": "code",
   "execution_count": 4,
   "id": "595262c6",
   "metadata": {},
   "outputs": [],
   "source": [
    "const LATITUDE::Float64 = 19.5138;\n",
    "const LONGITUDE::Float64 = -99.1285;\n",
    "START_DATE::Int64 = 20180101;\n",
    "END_DATE::Int64 = 20221231;"
   ]
  },
  {
   "cell_type": "markdown",
   "source": [
    "## Constants"
   ],
   "metadata": {
    "collapsed": false
   }
  },
  {
   "cell_type": "code",
   "execution_count": 156,
   "outputs": [],
   "source": [
    "START_HOUR::Int64 = 4;\n",
    "END_HOUR::Int64 = 18;"
   ],
   "metadata": {
    "collapsed": false
   }
  },
  {
   "cell_type": "markdown",
   "id": "00f6ae9b",
   "metadata": {},
   "source": [
    "## Data access request to the NASA"
   ]
  },
  {
   "cell_type": "code",
   "execution_count": 19,
   "id": "a56eab2b",
   "metadata": {},
   "outputs": [],
   "source": [
    "path = joinpath(pwd(), \"files\");\n",
    "if !isdir(path)\n",
    "\tmkdir(path)\n",
    "end\n",
    "for key in keys(parameters)\n",
    "\tURL::String = string(\n",
    "\t\t\"https://power.larc.nasa.gov/api/temporal/$key/point\",\n",
    "\t\t\"?parameters=\",\n",
    "\t\tjoin(parameters[key], \",\"),\n",
    "\t\t\"&community=RE\",\n",
    "\t\t\"&longitude=$LONGITUDE\",\n",
    "\t\t\"&latitude=$LATITUDE\",\n",
    "\t\t\"&start=$START_DATE\",\n",
    "\t\t\"&end=$END_DATE\",\n",
    "\t\t\"&format=CSV\"\n",
    "\t);\n",
    "\tdownload(URL, joinpath(path, \"$START_DATE-$END_DATE-$key.csv\"))\n",
    "end"
   ]
  },
  {
   "cell_type": "markdown",
   "id": "16151dea",
   "metadata": {},
   "source": [
    "## Tratamiento de datos\n",
    "**Nota:** Se confía en la fuente, por lo que se asume que no existen valores nulos en el DataFrame. Sin embargo, se observa que hay valores para rellenar iguales a -999. Se observa que estos valores son consecutivos a partir del 01/04/2022. Se espera que sea debido al periodo de recolección que pasa de ser cada hora a diario. Se buscará entonces otro dataset. Se encontró que en efecto, desde esa fecha no hay datos, aunque al corregirlo a diario, se reduce de 5 a 3 columnas la falta de datos, aunque aún se observan algunos datos faltantes."
   ]
  },
  {
   "cell_type": "code",
   "execution_count": 220,
   "id": "40836b49",
   "metadata": {},
   "outputs": [
    {
     "name": "stdout",
     "output_type": "stream",
     "text": [
      "\u001B[1m11×7 DataFrame\u001B[0m\n",
      "\u001B[1m Row \u001B[0m│\u001B[1m variable               \u001B[0m\u001B[1m mean        \u001B[0m\u001B[1m min      \u001B[0m\u001B[1m median      \u001B[0m\u001B[1m max       \u001B[0m\u001B[1m nmissing \u001B[0m\u001B[1m eltype   \u001B[0m\n",
      "     │\u001B[90m Symbol                 \u001B[0m\u001B[90m Float64     \u001B[0m\u001B[90m Real     \u001B[0m\u001B[90m Float64     \u001B[0m\u001B[90m Real      \u001B[0m\u001B[90m Int64    \u001B[0m\u001B[90m DataType \u001B[0m\n",
      "─────┼───────────────────────────────────────────────────────────────────────────────────────────\n",
      "   1 │ HR                        10.9833       4        11.0         18              0  Int64\n",
      "   2 │ MO                         6.19794      1         6.0         12              0  Int64\n",
      "   3 │ YEAR                    2019.69      2018      2020.0       2022              0  Int64\n",
      "   4 │ PS_mean                   74.5985      74.31     74.6015      74.8474         0  Float64\n",
      "   5 │ WS2M_mean                  1.21656      0.445     1.2218       2.3            0  Float64\n",
      "   6 │ QV2M_mean                  7.70319      3.05      7.13726     12.6217         0  Float64\n",
      "   7 │ CLRSKY_SFC_SW_DWN_mean   460.823        0.0     472.899     1101.4            0  Float64\n",
      "   8 │ ALLSKY_SFC_SW_DWN_mean   377.939        0.0     365.708     1072.41           0  Float64\n",
      "   9 │ CLOUD_AMT_mean            49.3954       1.2      49.3061      97.3613         0  Float64\n",
      "  10 │ ALLSKY_SFC_UVA_mean       22.5101       0.0      20.5139      66.49           0  Float64\n",
      "  11 │ ALLSKY_SFC_UVB_mean        0.662837     0.0       0.404753     2.55           0  Float64\n"
     ]
    }
   ],
   "source": [
    "na_val = -999;\n",
    "min_year::Int64 = trunc(Int, (START_DATE/10000));\n",
    "max_year::Int64 = trunc(Int, (END_DATE/10000));\n",
    "graphs_path = joinpath(pwd(), \"graphs\");\n",
    "if !isdir(graphs_path)\n",
    "\tmkdir(graphs_path)\n",
    "end\n",
    "\n",
    "for file in readdir(path)\n",
    "\tdf = DataFrame(CSV.File(joinpath(path, file), header=17))\n",
    "\tsubset!(\n",
    "\t\tdf,\n",
    "\t\tnames(df) .=> ByRow(x -> x != na_val),\n",
    "\t\t:HR => ByRow(x -> x >= START_HOUR && x <= END_HOUR),\n",
    "\t\t:YEAR => ByRow(x -> x >= min_year)\n",
    "\t)\n",
    "\n",
    "\tif (isequal(file[19:end-4], \"hourly\"))\n",
    "\t\tgd = groupby(df, [:HR, :MO, :YEAR])\n",
    "\telse\n",
    "\t\tgd = groupby(df, [:MO, :YEAR])\n",
    "\tend\n",
    "\n",
    "\tmean_dg = combine(gd, parameters[file[19:end-4]] .=> mean)\n",
    "\tprintln(describe(mean_dg))\n",
    "\n",
    "# data[:, [x for x in names(data) if x != :column1]]\n",
    "\tfor description in keys(descriptions)\n",
    "\t\tfor hour in START_HOUR : END_HOUR\n",
    "\t\t\tplot_data = filter(row -> row.HR === hour, mean_dg)\n",
    "\t\t\tfigure = plot(\n",
    "\t\t\t\t[months[x] for x in minimum(plot_data.MO) : maximum(plot_data.MO)],\n",
    "\t\t\t\t[\n",
    "\t\t\t\t\tfilter(row -> row.YEAR === year, plot_data)[:, string(description, \"_mean\")]\n",
    "\t\t\t\t\t\tfor year in min_year : max_year -1\n",
    "\t\t\t\t],\n",
    "\t\t\t\ttitle = \"$(descriptions[description][1]) at $hour\",\n",
    "\t\t\t\tlabel = [\"2018\" \"2019\" \"2020\" \"2021\"],\n",
    "\t\t\t\tylabel = \"[$(descriptions[description][3])]\",\n",
    "\t\t\t\txlabel = \"Mes\",\n",
    "\t\t\t\txrotation = 90\n",
    "\t\t\t);\n",
    "\t\t\tsavefig(joinpath(graphs_path, string(description, \"_\", hour, \".png\")))\n",
    "\t\tend\n",
    "\tend\n",
    "end"
   ]
  },
  {
   "cell_type": "code",
   "execution_count": null,
   "id": "6c7761a6",
   "metadata": {},
   "outputs": [],
   "source": []
  }
 ],
 "metadata": {
  "kernelspec": {
   "display_name": "Julia 1.8.0",
   "language": "julia",
   "name": "julia-1.8"
  },
  "language_info": {
   "file_extension": ".jl",
   "mimetype": "application/julia",
   "name": "julia",
   "version": "1.8.0"
  }
 },
 "nbformat": 4,
 "nbformat_minor": 5
}
